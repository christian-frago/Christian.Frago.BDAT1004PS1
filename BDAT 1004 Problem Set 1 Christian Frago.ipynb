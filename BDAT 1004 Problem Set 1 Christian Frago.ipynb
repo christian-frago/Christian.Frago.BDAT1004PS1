{
 "cells": [
  {
   "cell_type": "markdown",
   "id": "f75be842",
   "metadata": {},
   "source": [
    "# Christian Frago\n",
    "# BDAT 1004 - Problem Set 1"
   ]
  },
  {
   "cell_type": "markdown",
   "id": "4cb5366a",
   "metadata": {},
   "source": [
    "\n",
    "### Question 1.\n",
    "What data type is each of the following (evaluate where necessary)?"
   ]
  },
  {
   "cell_type": "markdown",
   "id": "46fb71aa",
   "metadata": {},
   "source": [
    "### 5"
   ]
  },
  {
   "cell_type": "code",
   "execution_count": 104,
   "id": "1715b98c",
   "metadata": {
    "scrolled": true
   },
   "outputs": [
    {
     "data": {
      "text/plain": [
       "int"
      ]
     },
     "execution_count": 104,
     "metadata": {},
     "output_type": "execute_result"
    }
   ],
   "source": [
    "data = 5\n",
    "type(data)"
   ]
  },
  {
   "cell_type": "markdown",
   "id": "63e0d100",
   "metadata": {},
   "source": [
    "### 5.0"
   ]
  },
  {
   "cell_type": "code",
   "execution_count": 6,
   "id": "cae17c8f",
   "metadata": {},
   "outputs": [
    {
     "data": {
      "text/plain": [
       "float"
      ]
     },
     "execution_count": 6,
     "metadata": {},
     "output_type": "execute_result"
    }
   ],
   "source": [
    "data = 5.0\n",
    "type(data)"
   ]
  },
  {
   "cell_type": "markdown",
   "id": "2dfa3db5",
   "metadata": {},
   "source": [
    "### 5>1"
   ]
  },
  {
   "cell_type": "code",
   "execution_count": 7,
   "id": "d7eda3a7",
   "metadata": {},
   "outputs": [
    {
     "data": {
      "text/plain": [
       "bool"
      ]
     },
     "execution_count": 7,
     "metadata": {},
     "output_type": "execute_result"
    }
   ],
   "source": [
    "data = 5>1\n",
    "type(data)"
   ]
  },
  {
   "cell_type": "markdown",
   "id": "8984e37b",
   "metadata": {},
   "source": [
    "### '5'"
   ]
  },
  {
   "cell_type": "code",
   "execution_count": 8,
   "id": "5d0b6aa2",
   "metadata": {},
   "outputs": [
    {
     "data": {
      "text/plain": [
       "str"
      ]
     },
     "execution_count": 8,
     "metadata": {},
     "output_type": "execute_result"
    }
   ],
   "source": [
    "data = '5'\n",
    "type(data)"
   ]
  },
  {
   "cell_type": "markdown",
   "id": "3fa5b3ee",
   "metadata": {},
   "source": [
    "### 5*2"
   ]
  },
  {
   "cell_type": "code",
   "execution_count": 9,
   "id": "d8f76741",
   "metadata": {},
   "outputs": [
    {
     "data": {
      "text/plain": [
       "int"
      ]
     },
     "execution_count": 9,
     "metadata": {},
     "output_type": "execute_result"
    }
   ],
   "source": [
    "data = 5*2\n",
    "type(data)"
   ]
  },
  {
   "cell_type": "markdown",
   "id": "6efd5fee",
   "metadata": {},
   "source": [
    "### '5' * 2"
   ]
  },
  {
   "cell_type": "code",
   "execution_count": 10,
   "id": "db207ab6",
   "metadata": {},
   "outputs": [
    {
     "data": {
      "text/plain": [
       "str"
      ]
     },
     "execution_count": 10,
     "metadata": {},
     "output_type": "execute_result"
    }
   ],
   "source": [
    "data = '5' * 2\n",
    "type(data)"
   ]
  },
  {
   "cell_type": "markdown",
   "id": "7061c7e2",
   "metadata": {},
   "source": [
    "### '5' + '2'"
   ]
  },
  {
   "cell_type": "code",
   "execution_count": 11,
   "id": "7f1d53e3",
   "metadata": {},
   "outputs": [
    {
     "data": {
      "text/plain": [
       "str"
      ]
     },
     "execution_count": 11,
     "metadata": {},
     "output_type": "execute_result"
    }
   ],
   "source": [
    "data = '5' + '2'\n",
    "type(data)"
   ]
  },
  {
   "cell_type": "markdown",
   "id": "1c500921",
   "metadata": {},
   "source": [
    "### 5/2"
   ]
  },
  {
   "cell_type": "code",
   "execution_count": 12,
   "id": "0e1129ce",
   "metadata": {},
   "outputs": [
    {
     "data": {
      "text/plain": [
       "float"
      ]
     },
     "execution_count": 12,
     "metadata": {},
     "output_type": "execute_result"
    }
   ],
   "source": [
    "data = 5 / 2\n",
    "type(data)"
   ]
  },
  {
   "cell_type": "markdown",
   "id": "ecf74fe3",
   "metadata": {},
   "source": [
    "### 5%2"
   ]
  },
  {
   "cell_type": "code",
   "execution_count": 13,
   "id": "89e3644a",
   "metadata": {},
   "outputs": [
    {
     "data": {
      "text/plain": [
       "int"
      ]
     },
     "execution_count": 13,
     "metadata": {},
     "output_type": "execute_result"
    }
   ],
   "source": [
    "data = 5%2\n",
    "type(data)"
   ]
  },
  {
   "cell_type": "markdown",
   "id": "526ff715",
   "metadata": {},
   "source": [
    "### {5,2,1}"
   ]
  },
  {
   "cell_type": "code",
   "execution_count": 14,
   "id": "49d203cf",
   "metadata": {},
   "outputs": [
    {
     "data": {
      "text/plain": [
       "set"
      ]
     },
     "execution_count": 14,
     "metadata": {},
     "output_type": "execute_result"
    }
   ],
   "source": [
    "data = {5,2,1}\n",
    "type(data)"
   ]
  },
  {
   "cell_type": "markdown",
   "id": "1c1d5364",
   "metadata": {},
   "source": [
    "### 5 == 3"
   ]
  },
  {
   "cell_type": "code",
   "execution_count": 15,
   "id": "35a30348",
   "metadata": {},
   "outputs": [
    {
     "data": {
      "text/plain": [
       "bool"
      ]
     },
     "execution_count": 15,
     "metadata": {},
     "output_type": "execute_result"
    }
   ],
   "source": [
    "data = 5==3\n",
    "type(data)"
   ]
  },
  {
   "cell_type": "markdown",
   "id": "8bc37352",
   "metadata": {},
   "source": [
    "### Pi"
   ]
  },
  {
   "cell_type": "code",
   "execution_count": 16,
   "id": "b3bc8496",
   "metadata": {},
   "outputs": [
    {
     "data": {
      "text/plain": [
       "float"
      ]
     },
     "execution_count": 16,
     "metadata": {},
     "output_type": "execute_result"
    }
   ],
   "source": [
    "import math\n",
    "type(math.pi)"
   ]
  },
  {
   "cell_type": "markdown",
   "id": "8172771b",
   "metadata": {},
   "source": [
    "### Question 2."
   ]
  },
  {
   "cell_type": "markdown",
   "id": "cb80db15",
   "metadata": {},
   "source": [
    "a. How many letters are there in 'Supercalifragilisticexpialidocious'?"
   ]
  },
  {
   "cell_type": "code",
   "execution_count": 19,
   "id": "27f0eb45",
   "metadata": {},
   "outputs": [
    {
     "name": "stdout",
     "output_type": "stream",
     "text": [
      "34\n"
     ]
    }
   ],
   "source": [
    "word = 'Supercalifragilisticexpialidocious'\n",
    "print(len(word))"
   ]
  },
  {
   "cell_type": "markdown",
   "id": "bdce813b",
   "metadata": {},
   "source": [
    "b. Does 'Supercalifragilisticexpialidocious' contain 'ice' as a substring?"
   ]
  },
  {
   "cell_type": "code",
   "execution_count": 20,
   "id": "0f5f7933",
   "metadata": {},
   "outputs": [
    {
     "name": "stdout",
     "output_type": "stream",
     "text": [
      "True\n"
     ]
    }
   ],
   "source": [
    "word = 'Supercalifragilisticexpialidocious'\n",
    "#test = 'ice'\n",
    "print('ice' in word)"
   ]
  },
  {
   "cell_type": "markdown",
   "id": "56edf6ff",
   "metadata": {},
   "source": [
    "c. Which of the following words is the longest:\n",
    "Supercalifragilisticexpialidocious, Honorificabilitudinitatibus, or Bababadalgharaghtakamminarronnkonn?"
   ]
  },
  {
   "cell_type": "code",
   "execution_count": 131,
   "id": "6c6aac18",
   "metadata": {},
   "outputs": [
    {
     "name": "stdout",
     "output_type": "stream",
     "text": [
      "Lenght of the longest word:  34\n",
      "Longest word/s:  ['Supercalifragilisticexpialidocious', 'Bababadalgharaghtakamminarronnkonn']\n"
     ]
    }
   ],
   "source": [
    "word1 = 'Supercalifragilisticexpialidocious'\n",
    "word2 = 'Honorificabilitudinitatibus'\n",
    "word3 = 'Bababadalgharaghtakamminarronnkonn'\n",
    "answer = [] #list that will contain the longest word \n",
    "\n",
    "lenstr1 = len(word1)\n",
    "lenstr2 = len(word2)\n",
    "lenstr3 = len(word3)\n",
    "lstlen = [lenstr1,lenstr2,lenstr3] #length of each strings\n",
    "longestword = max(lstlen)\n",
    "\n",
    "print(\"Lenght of the longest word: \",longestword) #length of the longest word\n",
    "\n",
    "if longestword == lenstr1:\n",
    "    answer.append(word1)\n",
    "if longestword == lenstr2:\n",
    "    answer.append(word2)\n",
    "if longestword == lenstr3:\n",
    "    answer.append(word3)\n",
    "\n",
    "print(\"Longest word/s: \",answer) #answer can be multiple"
   ]
  },
  {
   "cell_type": "markdown",
   "id": "c15289c8",
   "metadata": {},
   "source": [
    "d. Which composer comes first in the dictionary: 'Berlioz', 'Borodin', 'Brian',\n",
    "'Bartok', 'Bellini', 'Buxtehude', 'Bernstein'. Which one comes last?"
   ]
  },
  {
   "cell_type": "code",
   "execution_count": 102,
   "id": "cf70a0db",
   "metadata": {},
   "outputs": [
    {
     "name": "stdout",
     "output_type": "stream",
     "text": [
      "['Bartok', 'Bellini', 'Berlioz', 'Bernstein', 'Borodin', 'Brian', 'Buxtehude']\n",
      "Bartok is First\n",
      "Buxtehude is Last\n"
     ]
    }
   ],
   "source": [
    "composers = ['Berlioz', 'Borodin', 'Brian', 'Bartok', 'Bellini', 'Buxtehude', 'Bernstein']\n",
    "composers.sort()\n",
    "count = len(composers)\n",
    "\n",
    "print(composers)\n",
    "print(composers[0] +\" is First\")\n",
    "print(composers[count-1] + \" is Last\")\n"
   ]
  },
  {
   "cell_type": "markdown",
   "id": "9ec7bb80",
   "metadata": {},
   "source": [
    "### Question 3."
   ]
  },
  {
   "cell_type": "markdown",
   "id": "07a8ce75",
   "metadata": {},
   "source": [
    "Implement function triangleArea(a,b,c) that takes as input the lengths of the 3\n",
    "sides of a triangle and returns the area of the triangle. By Heron's formula, the area\n",
    "of a triangle with side lengths a, b, and c is\n",
    "sqrt of (s(s - a)(s -b)(s -c)), where\n",
    "s = (a +b + c) /2.\n",
    ">>> triangleArea(2,2,2)\n",
    "1.7320508075688772"
   ]
  },
  {
   "cell_type": "code",
   "execution_count": 4,
   "id": "865760c2",
   "metadata": {},
   "outputs": [
    {
     "name": "stdout",
     "output_type": "stream",
     "text": [
      "Enter side a: 2\n",
      "Enter side b: 2\n",
      "Enter side c: 2\n",
      "1.7320508075688772\n"
     ]
    }
   ],
   "source": [
    "import math\n",
    "\n",
    "def triangleArea(a,b,c):\n",
    "    s= float(a+b+c)/2\n",
    "    area = float(math.sqrt(s*(s-a)*(s-b)*(s-c)))\n",
    "    print(area)\n",
    "    #return area\n",
    "\n",
    "a = int(input(\"Enter side a: \"))\n",
    "b = int(input(\"Enter side b: \"))\n",
    "c = int(input(\"Enter side c: \"))\n",
    "\n",
    "triangleArea(a,b,c) #call the function to test"
   ]
  },
  {
   "cell_type": "code",
   "execution_count": 5,
   "id": "814417f9",
   "metadata": {},
   "outputs": [
    {
     "name": "stdout",
     "output_type": "stream",
     "text": [
      "1.7320508075688772\n"
     ]
    }
   ],
   "source": [
    "triangleArea(2,2,2)"
   ]
  },
  {
   "cell_type": "markdown",
   "id": "78df8a85",
   "metadata": {},
   "source": [
    "### Question 4."
   ]
  },
  {
   "cell_type": "markdown",
   "id": "fd8022a2",
   "metadata": {},
   "source": [
    "Write a program in python to separate odd and even integers in separate arrays."
   ]
  },
  {
   "cell_type": "code",
   "execution_count": 101,
   "id": "c98cfe2b",
   "metadata": {},
   "outputs": [
    {
     "name": "stdout",
     "output_type": "stream",
     "text": [
      "Input number of Elements:5\n",
      "Input element 0:25\n",
      "Input element 1:47\n",
      "Input element 2:42\n",
      "Input element 3:56\n",
      "Input element 4:32\n",
      "The Even elements are: [42, 56, 32]\n",
      "The Odd elements are: [25, 47]\n"
     ]
    }
   ],
   "source": [
    "odd = []\n",
    "even = []\n",
    "e = 0\n",
    "\n",
    "count = int(input(\"Input number of Elements:\"))\n",
    "\n",
    "while e < count:\n",
    "    element = int(input(\"Input element \" + str(e) + \":\"))\n",
    "    if element % 2 == 0:\n",
    "        even.append(element)\n",
    "    else:\n",
    "        odd.append(element)\n",
    "    e +=1\n",
    "\n",
    "print(\"The Even elements are:\", even)\n",
    "print(\"The Odd elements are:\", odd)"
   ]
  },
  {
   "cell_type": "markdown",
   "id": "5f723bf9",
   "metadata": {},
   "source": [
    "### Question 5."
   ]
  },
  {
   "cell_type": "markdown",
   "id": "48a2a5df",
   "metadata": {},
   "source": [
    "a. Write a function inside(x,y,x1,y1,x2,y2) that returns True or False depending on whether the point (x,y) lies in the rectangle with lower left corner (x1,y1) and upper right corner (x2,y2)."
   ]
  },
  {
   "cell_type": "code",
   "execution_count": 111,
   "id": "bbf3c225",
   "metadata": {},
   "outputs": [],
   "source": [
    "def inside(x, y, x1, y1, x2, y2):\n",
    "    if x1 <= x <= x2 and y1 <= y <= y2:\n",
    "        return True\n",
    "    else:\n",
    "        return False"
   ]
  },
  {
   "cell_type": "code",
   "execution_count": 112,
   "id": "0404fd0c",
   "metadata": {},
   "outputs": [
    {
     "name": "stdout",
     "output_type": "stream",
     "text": [
      "False\n"
     ]
    }
   ],
   "source": [
    "print(inside(-1,-1,0,0,2,3))"
   ]
  },
  {
   "cell_type": "code",
   "execution_count": 113,
   "id": "aa58368f",
   "metadata": {},
   "outputs": [
    {
     "name": "stdout",
     "output_type": "stream",
     "text": [
      "True\n"
     ]
    }
   ],
   "source": [
    "print(inside(1,1,0,0,2,3))"
   ]
  },
  {
   "cell_type": "markdown",
   "id": "fcfaad10",
   "metadata": {},
   "source": [
    "b. Use function inside() from part a. to write an expression that tests whether the point (1,1) lies in both of the following rectangles: one with lower left corner (0.3, 0.5) and upper right corner (1.1, 0.7) and the other with lower left corner (0.5, 0.2) and upper right corner (1.1, 2)."
   ]
  },
  {
   "cell_type": "code",
   "execution_count": 114,
   "id": "3372c07c",
   "metadata": {},
   "outputs": [
    {
     "name": "stdout",
     "output_type": "stream",
     "text": [
      "False\n"
     ]
    }
   ],
   "source": [
    "print(inside(1,1,0.3,0.5,1.1,0.7))"
   ]
  },
  {
   "cell_type": "code",
   "execution_count": 115,
   "id": "beeb4cab",
   "metadata": {},
   "outputs": [
    {
     "name": "stdout",
     "output_type": "stream",
     "text": [
      "True\n"
     ]
    }
   ],
   "source": [
    "print(inside(1,1,0.5,0.2,1.1,2))"
   ]
  },
  {
   "cell_type": "markdown",
   "id": "e3832ec6",
   "metadata": {},
   "source": [
    "### Question 6."
   ]
  },
  {
   "cell_type": "markdown",
   "id": "2811e157",
   "metadata": {},
   "source": [
    "You can turn a word into pig-Latin using the following two rules (simplified):\n",
    "\n",
    "• If the word starts with a consonant, move that letter to the end and append 'ay'. For example, 'happy' becomes 'appyhay' and 'pencil' becomes 'encilpay'.\n",
    "\n",
    "• If the word starts with a vowel, simply append 'way' to the end of the word. For example, 'enter' becomes 'enterway' and 'other' becomes 'otherway' . For our purposes, there are 5 vowels: a, e, i, o, u (so we count y as a consonant).\n",
    "\n",
    "Write a function pig() that takes a word (i.e., a string) as input and returns its pig-Latin form. Your function should still work if the input word contains upper case characters. Your output should always be lower case however."
   ]
  },
  {
   "cell_type": "code",
   "execution_count": 144,
   "id": "437211cf",
   "metadata": {},
   "outputs": [
    {
     "name": "stdout",
     "output_type": "stream",
     "text": [
      "Enter a word:Happy\n",
      "appyhay\n"
     ]
    }
   ],
   "source": [
    "def pig(word):\n",
    "    length = len(word)\n",
    "    vowel = ['a','e','i','o','u']\n",
    "    latin = ''\n",
    "\n",
    "    if word[0].lower() not in vowel:\n",
    "        counter = 1\n",
    "        while counter < length:\n",
    "            latin = latin + word[counter]\n",
    "            counter += 1\n",
    "        latin = latin + word[0] + 'ay'\n",
    "    else:\n",
    "        latin = word +'way'\n",
    "    print(latin.lower())\n",
    "        \n",
    "word = input(\"Enter a word:\")\n",
    "pig(word)"
   ]
  },
  {
   "cell_type": "code",
   "execution_count": 134,
   "id": "07802b3c",
   "metadata": {},
   "outputs": [
    {
     "name": "stdout",
     "output_type": "stream",
     "text": [
      "appyhay\n"
     ]
    }
   ],
   "source": [
    "pig('happy')"
   ]
  },
  {
   "cell_type": "code",
   "execution_count": 146,
   "id": "2faa4143",
   "metadata": {},
   "outputs": [
    {
     "name": "stdout",
     "output_type": "stream",
     "text": [
      "enterway\n"
     ]
    }
   ],
   "source": [
    "pig('Enter')"
   ]
  },
  {
   "cell_type": "markdown",
   "id": "a9d05331",
   "metadata": {},
   "source": [
    "### Question 7."
   ]
  },
  {
   "cell_type": "markdown",
   "id": "e36d1f87",
   "metadata": {},
   "source": [
    "File bloodtype1.txt records blood-types of patients (A, B, AB, O or OO) at a clinic. Write a function bldcount() that reads the file with name name and reports (i.e., prints) how many patients there are in each bloodtype."
   ]
  },
  {
   "cell_type": "code",
   "execution_count": 7,
   "id": "0bb48a9f",
   "metadata": {},
   "outputs": [
    {
     "name": "stdout",
     "output_type": "stream",
     "text": [
      "There are 15 patients of blood type A.\n",
      "There is one patient of blood type B.\n",
      "There are 13 patients of blood type AB.\n",
      "There are 15 patients of blood type O.\n",
      "There are no patients of blood type OO.\n"
     ]
    }
   ],
   "source": [
    "def bldcount(name):\n",
    "    infile = open(name)\n",
    "    content = infile.read()\n",
    "    bloodtype = content.split()\n",
    "    #print(bloodtype)\n",
    "    \n",
    "    typeA = bloodtype.count(\"A\")\n",
    "    if typeA == 0:\n",
    "        print('There are no patients of blood type A.')\n",
    "    elif typeA == 1:\n",
    "        print(\"There is one patient of blood type A.\")\n",
    "    else:\n",
    "        print(\"There are \" + str(typeA) + \" patients of blood type A.\")\n",
    "        \n",
    "    typeB = bloodtype.count(\"B\")\n",
    "    if typeB == 0:\n",
    "        print('There are no patients of blood type B.')\n",
    "    elif typeB == 1:\n",
    "        print(\"There is one patient of blood type B.\")\n",
    "    else:\n",
    "        print(\"There are \" + str(typeB) + \" patients of blood type B.\")\n",
    "        \n",
    "    typeAB = bloodtype.count(\"AB\")\n",
    "    if typeAB == 0:\n",
    "        print('There are no patients of blood type AB.')\n",
    "    elif typeAB == 1:\n",
    "        print(\"There is one patient of blood type AB.\")\n",
    "    else:\n",
    "        print(\"There are \" + str(typeAB) + \" patients of blood type AB.\")\n",
    "\n",
    "    typeO = bloodtype.count(\"O\")\n",
    "    if typeO == 0:\n",
    "        print('There are no patients of blood type O.')\n",
    "    elif typeO == 1:\n",
    "        print(\"There is one patient of blood type O.\")\n",
    "    else:\n",
    "        print(\"There are \" + str(typeO) + \" patients of blood type O.\")\n",
    "        \n",
    "    typeOO = bloodtype.count(\"OO\")\n",
    "    if typeOO == 0:\n",
    "        print('There are no patients of blood type OO.')\n",
    "    elif typeOO == 1:\n",
    "        print(\"There is one patient of blood type OO.\")\n",
    "    else:\n",
    "        print(\"There are \" + str(typeOO) + \" patients of blood type OO.\")\n",
    "       \n",
    "    infile.close()\n",
    "\n",
    "bldcount('bloodtype1.txt')"
   ]
  },
  {
   "cell_type": "code",
   "execution_count": 8,
   "id": "45c8044a",
   "metadata": {},
   "outputs": [
    {
     "name": "stdout",
     "output_type": "stream",
     "text": [
      "There are 15 patients of blood type A.\n",
      "There is one patient of blood type B.\n",
      "There are 13 patients of blood type AB.\n",
      "There are 15 patients of blood type O.\n",
      "There are no patients of blood type OO.\n"
     ]
    }
   ],
   "source": [
    "bldcount('bloodtype1.txt')"
   ]
  },
  {
   "cell_type": "markdown",
   "id": "9752d533",
   "metadata": {},
   "source": [
    "### Question 8."
   ]
  },
  {
   "cell_type": "markdown",
   "id": "97ed84f9",
   "metadata": {},
   "source": [
    "Write a function curconv() that takes as input:\n",
    "1. a currency represented using a string (e.g., 'JPY' for the Japanese Yen or 'EUR' for the Euro)\n",
    "2. an amount\n",
    "and then converts and returns the amount in US dollars.\n",
    "\n",
    "The currency rates you will need are stored in file currencies.txt:"
   ]
  },
  {
   "cell_type": "code",
   "execution_count": 74,
   "id": "6deb406e",
   "metadata": {},
   "outputs": [],
   "source": [
    "def curconv(currency, amount):\n",
    "\n",
    "    conversion = dict()\n",
    "    with open(\"currencies.txt\", \"r\") as file: #https://www.pythonforbeginners.com/files/with-statement-in-python says \"with\" does not need to close the file\n",
    "        for conv in file:\n",
    "            line, *lines = conv.split()\n",
    "            conversion[line] = lines\n",
    "    convert = conversion[currency][0]\n",
    "    USD = amount*float(convert)\n",
    "    print(str(USD))\n",
    "       \n",
    "#curconv('JPY', 100)"
   ]
  },
  {
   "cell_type": "code",
   "execution_count": 78,
   "id": "ce41e90e",
   "metadata": {},
   "outputs": [
    {
     "name": "stdout",
     "output_type": "stream",
     "text": [
      "122.96544\n"
     ]
    }
   ],
   "source": [
    "curconv('EUR',100)"
   ]
  },
  {
   "cell_type": "code",
   "execution_count": 79,
   "id": "7bb58499",
   "metadata": {},
   "outputs": [
    {
     "name": "stdout",
     "output_type": "stream",
     "text": [
      "1.241401\n"
     ]
    }
   ],
   "source": [
    "curconv('JPY',100)"
   ]
  },
  {
   "cell_type": "markdown",
   "id": "da11c370",
   "metadata": {},
   "source": [
    "### Question 9."
   ]
  },
  {
   "cell_type": "markdown",
   "id": "530c0f56",
   "metadata": {},
   "source": [
    "Each of the following will cause an exception (an error). Identify what type of exception each will cause."
   ]
  },
  {
   "cell_type": "markdown",
   "id": "264516f2",
   "metadata": {},
   "source": [
    "Trying to add incompatible variables, as in\n",
    "adding 6 + ‘a’\n",
    "\n",
    "#### Answer: TypeError"
   ]
  },
  {
   "cell_type": "code",
   "execution_count": 82,
   "id": "a4323799",
   "metadata": {},
   "outputs": [
    {
     "ename": "TypeError",
     "evalue": "unsupported operand type(s) for +: 'int' and 'str'",
     "output_type": "error",
     "traceback": [
      "\u001b[1;31m---------------------------------------------------------------------------\u001b[0m",
      "\u001b[1;31mTypeError\u001b[0m                                 Traceback (most recent call last)",
      "\u001b[1;32m~\\AppData\\Local\\Temp\\ipykernel_95592\\1481153971.py\u001b[0m in \u001b[0;36m<module>\u001b[1;34m\u001b[0m\n\u001b[1;32m----> 1\u001b[1;33m \u001b[0merror\u001b[0m \u001b[1;33m=\u001b[0m \u001b[1;36m6\u001b[0m \u001b[1;33m+\u001b[0m \u001b[1;34m'a'\u001b[0m\u001b[1;33m\u001b[0m\u001b[1;33m\u001b[0m\u001b[0m\n\u001b[0m\u001b[0;32m      2\u001b[0m \u001b[1;31m# Answer: TypeError: unsupported operand type(s) for +: 'int' and 'str'\u001b[0m\u001b[1;33m\u001b[0m\u001b[1;33m\u001b[0m\u001b[0m\n",
      "\u001b[1;31mTypeError\u001b[0m: unsupported operand type(s) for +: 'int' and 'str'"
     ]
    }
   ],
   "source": [
    "error = 6 + 'a'\n",
    "# Answer: TypeError: unsupported operand type(s) for +: 'int' and 'str'"
   ]
  },
  {
   "cell_type": "markdown",
   "id": "eed2a53a",
   "metadata": {},
   "source": [
    "Referring to the 12\n",
    "th item of a list that has only 10\n",
    "items\n",
    "\n",
    "#### Answer: IndexError"
   ]
  },
  {
   "cell_type": "code",
   "execution_count": 84,
   "id": "78db130f",
   "metadata": {},
   "outputs": [
    {
     "ename": "IndexError",
     "evalue": "list index out of range",
     "output_type": "error",
     "traceback": [
      "\u001b[1;31m---------------------------------------------------------------------------\u001b[0m",
      "\u001b[1;31mIndexError\u001b[0m                                Traceback (most recent call last)",
      "\u001b[1;32m~\\AppData\\Local\\Temp\\ipykernel_95592\\4011740759.py\u001b[0m in \u001b[0;36m<module>\u001b[1;34m\u001b[0m\n\u001b[0;32m      1\u001b[0m \u001b[0mlst\u001b[0m \u001b[1;33m=\u001b[0m \u001b[1;33m[\u001b[0m\u001b[1;36m1\u001b[0m\u001b[1;33m,\u001b[0m\u001b[1;36m2\u001b[0m\u001b[1;33m,\u001b[0m\u001b[1;36m3\u001b[0m\u001b[1;33m,\u001b[0m\u001b[1;36m4\u001b[0m\u001b[1;33m,\u001b[0m\u001b[1;36m5\u001b[0m\u001b[1;33m,\u001b[0m\u001b[1;36m6\u001b[0m\u001b[1;33m,\u001b[0m\u001b[1;36m7\u001b[0m\u001b[1;33m,\u001b[0m\u001b[1;36m8\u001b[0m\u001b[1;33m,\u001b[0m\u001b[1;36m9\u001b[0m\u001b[1;33m,\u001b[0m\u001b[1;36m10\u001b[0m\u001b[1;33m]\u001b[0m\u001b[1;33m\u001b[0m\u001b[1;33m\u001b[0m\u001b[0m\n\u001b[1;32m----> 2\u001b[1;33m \u001b[0mprint\u001b[0m\u001b[1;33m(\u001b[0m\u001b[0mlst\u001b[0m\u001b[1;33m[\u001b[0m\u001b[1;36m12\u001b[0m\u001b[1;33m]\u001b[0m\u001b[1;33m)\u001b[0m\u001b[1;33m\u001b[0m\u001b[1;33m\u001b[0m\u001b[0m\n\u001b[0m",
      "\u001b[1;31mIndexError\u001b[0m: list index out of range"
     ]
    }
   ],
   "source": [
    "lst = [1,2,3,4,5,6,7,8,9,10]\n",
    "print(lst[12])\n",
    "\n",
    "# Answer: IndexError: list index out of range"
   ]
  },
  {
   "cell_type": "markdown",
   "id": "4543c1cf",
   "metadata": {},
   "source": [
    "Using a value that is out of range for a functi\n",
    "on’s\n",
    "input, such as calling math.sqrt(-1.0)\n",
    "\n",
    "#### Answer: ValueError"
   ]
  },
  {
   "cell_type": "code",
   "execution_count": 87,
   "id": "93792529",
   "metadata": {},
   "outputs": [
    {
     "ename": "ValueError",
     "evalue": "math domain error",
     "output_type": "error",
     "traceback": [
      "\u001b[1;31m---------------------------------------------------------------------------\u001b[0m",
      "\u001b[1;31mValueError\u001b[0m                                Traceback (most recent call last)",
      "\u001b[1;32m~\\AppData\\Local\\Temp\\ipykernel_95592\\3280221097.py\u001b[0m in \u001b[0;36m<module>\u001b[1;34m\u001b[0m\n\u001b[0;32m      1\u001b[0m \u001b[1;32mimport\u001b[0m \u001b[0mmath\u001b[0m\u001b[1;33m\u001b[0m\u001b[1;33m\u001b[0m\u001b[0m\n\u001b[0;32m      2\u001b[0m \u001b[1;33m\u001b[0m\u001b[0m\n\u001b[1;32m----> 3\u001b[1;33m \u001b[0mmath\u001b[0m\u001b[1;33m.\u001b[0m\u001b[0msqrt\u001b[0m\u001b[1;33m(\u001b[0m\u001b[1;33m-\u001b[0m\u001b[1;36m1.0\u001b[0m\u001b[1;33m)\u001b[0m\u001b[1;33m\u001b[0m\u001b[1;33m\u001b[0m\u001b[0m\n\u001b[0m\u001b[0;32m      4\u001b[0m \u001b[1;33m\u001b[0m\u001b[0m\n\u001b[0;32m      5\u001b[0m \u001b[1;31m# Answer: ValueError: math domain error\u001b[0m\u001b[1;33m\u001b[0m\u001b[1;33m\u001b[0m\u001b[0m\n",
      "\u001b[1;31mValueError\u001b[0m: math domain error"
     ]
    }
   ],
   "source": [
    "import math\n",
    "\n",
    "math.sqrt(-1.0)\n",
    "\n",
    "# Answer: ValueError: math domain error"
   ]
  },
  {
   "cell_type": "markdown",
   "id": "b6cf379b",
   "metadata": {},
   "source": [
    "Using an undeclared variable, such as\n",
    "print(x)\n",
    "when x has not been defined\n",
    "\n",
    "#### Answer: NameError"
   ]
  },
  {
   "cell_type": "code",
   "execution_count": 90,
   "id": "b80134e0",
   "metadata": {},
   "outputs": [
    {
     "ename": "NameError",
     "evalue": "name 'undeclared' is not defined",
     "output_type": "error",
     "traceback": [
      "\u001b[1;31m---------------------------------------------------------------------------\u001b[0m",
      "\u001b[1;31mNameError\u001b[0m                                 Traceback (most recent call last)",
      "\u001b[1;32m~\\AppData\\Local\\Temp\\ipykernel_95592\\1553238622.py\u001b[0m in \u001b[0;36m<module>\u001b[1;34m\u001b[0m\n\u001b[1;32m----> 1\u001b[1;33m \u001b[0mprint\u001b[0m\u001b[1;33m(\u001b[0m\u001b[0mundeclared\u001b[0m\u001b[1;33m)\u001b[0m\u001b[1;33m\u001b[0m\u001b[1;33m\u001b[0m\u001b[0m\n\u001b[0m\u001b[0;32m      2\u001b[0m \u001b[1;33m\u001b[0m\u001b[0m\n\u001b[0;32m      3\u001b[0m \u001b[1;31m# Answer: NameError: name 'undeclared' is not defined\u001b[0m\u001b[1;33m\u001b[0m\u001b[1;33m\u001b[0m\u001b[0m\n",
      "\u001b[1;31mNameError\u001b[0m: name 'undeclared' is not defined"
     ]
    }
   ],
   "source": [
    "print(undeclared)\n",
    "\n",
    "# Answer: NameError: name 'undeclared' is not defined"
   ]
  },
  {
   "cell_type": "markdown",
   "id": "aaf4f229",
   "metadata": {},
   "source": [
    "Trying to open a file that does not exist, such as\n",
    "mistyping the file name or looking in the wrong\n",
    "directory.\n",
    "\n",
    "#### Answer: FileNotFoundError"
   ]
  },
  {
   "cell_type": "code",
   "execution_count": 92,
   "id": "99239fdd",
   "metadata": {},
   "outputs": [
    {
     "ename": "FileNotFoundError",
     "evalue": "[Errno 2] No such file or directory: 'doesnotexist.txt'",
     "output_type": "error",
     "traceback": [
      "\u001b[1;31m---------------------------------------------------------------------------\u001b[0m",
      "\u001b[1;31mFileNotFoundError\u001b[0m                         Traceback (most recent call last)",
      "\u001b[1;32m~\\AppData\\Local\\Temp\\ipykernel_95592\\2416300651.py\u001b[0m in \u001b[0;36m<module>\u001b[1;34m\u001b[0m\n\u001b[1;32m----> 1\u001b[1;33m \u001b[0mopenfile\u001b[0m \u001b[1;33m=\u001b[0m \u001b[0mopen\u001b[0m\u001b[1;33m(\u001b[0m\u001b[1;34m'doesnotexist.txt'\u001b[0m\u001b[1;33m)\u001b[0m\u001b[1;33m\u001b[0m\u001b[1;33m\u001b[0m\u001b[0m\n\u001b[0m\u001b[0;32m      2\u001b[0m \u001b[0mcontent\u001b[0m \u001b[1;33m=\u001b[0m \u001b[0mopenfile\u001b[0m\u001b[1;33m.\u001b[0m\u001b[0mread\u001b[0m\u001b[1;33m(\u001b[0m\u001b[1;33m)\u001b[0m\u001b[1;33m\u001b[0m\u001b[1;33m\u001b[0m\u001b[0m\n\u001b[0;32m      3\u001b[0m \u001b[1;33m\u001b[0m\u001b[0m\n\u001b[0;32m      4\u001b[0m \u001b[1;31m# Answer: FileNotFoundError: [Errno 2] No such file or directory: 'doesnotexist.txt'\u001b[0m\u001b[1;33m\u001b[0m\u001b[1;33m\u001b[0m\u001b[0m\n",
      "\u001b[1;31mFileNotFoundError\u001b[0m: [Errno 2] No such file or directory: 'doesnotexist.txt'"
     ]
    }
   ],
   "source": [
    "openfile = open('doesnotexist.txt')\n",
    "content = openfile.read()\n",
    "\n",
    "# Answer: FileNotFoundError: [Errno 2] No such file or directory: 'doesnotexist.txt'"
   ]
  },
  {
   "cell_type": "markdown",
   "id": "a4d817fa",
   "metadata": {},
   "source": [
    "### Question 10."
   ]
  },
  {
   "cell_type": "markdown",
   "id": "3b4c0179",
   "metadata": {},
   "source": [
    "Encryption is the process of hiding the meaning of a text by substituting letters in the message with other letters, according to some system. If the process is successful, no one but the intended recipient can understand the encrypted message. Cryptanalysis refers to attempts to undo the encryption, even if some details of the encryption are unknown (for example, if an encrypted message has been intercepted). The first step of cryptanalysis is often to build up a table of letter frequencies in the encrypted text. Assume that the string letters is already defined as 'abcdefghijklmnopqrstuvwxyz'. Write a function called frequencies() that takes a string as its only parameter, and returns a list of integers, showing the number of times each character appears in the text. Your function may ignore any characters that are not in letters."
   ]
  },
  {
   "cell_type": "code",
   "execution_count": 123,
   "id": "16a42e54",
   "metadata": {},
   "outputs": [],
   "source": [
    "def frequencies(string_input):\n",
    "    letters = 'abcdefghijklmnopqrstuvwxyz'\n",
    "    count = len(letters)\n",
    "    e = 0\n",
    "    integers = []\n",
    "\n",
    "    while e < count:\n",
    "        frequency = string_input.count(letters[e])\n",
    "        integers.append(frequency)\n",
    "        e +=1\n",
    "    print(integers)"
   ]
  },
  {
   "cell_type": "code",
   "execution_count": 124,
   "id": "abdde59c",
   "metadata": {},
   "outputs": [
    {
     "name": "stdout",
     "output_type": "stream",
     "text": [
      "[1, 1, 1, 3, 5, 1, 1, 2, 1, 0, 1, 0, 1, 2, 4, 0, 1, 2, 0, 2, 1, 0, 1, 1, 0, 0]\n"
     ]
    }
   ],
   "source": [
    "frequencies('The quick red fox got bored and went home.')"
   ]
  },
  {
   "cell_type": "code",
   "execution_count": 125,
   "id": "a2b9582a",
   "metadata": {},
   "outputs": [
    {
     "name": "stdout",
     "output_type": "stream",
     "text": [
      "[1, 0, 0, 0, 1, 0, 0, 0, 0, 0, 0, 1, 0, 0, 0, 2, 0, 0, 0, 0, 0, 0, 0, 0, 0, 0]\n"
     ]
    }
   ],
   "source": [
    "frequencies('apple')"
   ]
  },
  {
   "cell_type": "code",
   "execution_count": null,
   "id": "25360b86",
   "metadata": {},
   "outputs": [],
   "source": []
  }
 ],
 "metadata": {
  "kernelspec": {
   "display_name": "Python 3 (ipykernel)",
   "language": "python",
   "name": "python3"
  },
  "language_info": {
   "codemirror_mode": {
    "name": "ipython",
    "version": 3
   },
   "file_extension": ".py",
   "mimetype": "text/x-python",
   "name": "python",
   "nbconvert_exporter": "python",
   "pygments_lexer": "ipython3",
   "version": "3.9.13"
  }
 },
 "nbformat": 4,
 "nbformat_minor": 5
}
